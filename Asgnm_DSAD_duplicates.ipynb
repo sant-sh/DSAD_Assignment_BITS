{
 "cells": [
  {
   "cell_type": "code",
   "execution_count": 12,
   "metadata": {},
   "outputs": [
    {
     "name": "stdin",
     "output_type": "stream",
     "text": [
      "Please enter the elements:  1 1 1 1 1 1 3 4 4 3 2 54 6 6 7 7 7 4 4 5 5 6 6 7 7 7 7 7 6 56\n"
     ]
    },
    {
     "name": "stdout",
     "output_type": "stream",
     "text": [
      "The list with duplicates removed: \n",
      "1 3 4 2 54 6 7 5 56 "
     ]
    }
   ],
   "source": [
    "# To print all paths from a source to destination. \n",
    "\n",
    "class Node:\n",
    "    def __init__(self, data):\n",
    "        self.data = data\n",
    "        self.next = None\n",
    " \n",
    "class LinkedList:\n",
    "    def __init__(self):\n",
    "        self.head = None\n",
    "        self.last_node = None\n",
    " \n",
    "    def append(self, data):\n",
    "        if self.last_node is None:\n",
    "            self.head = Node(data)\n",
    "            self.last_node = self.head\n",
    "        else:\n",
    "            self.last_node.next = Node(data)\n",
    "            self.last_node = self.last_node.next\n",
    " \n",
    "    def get_prev_node(self, ref_node):\n",
    "        current = self.head\n",
    "        while (current and current.next != ref_node):\n",
    "            current = current.next\n",
    "        return current\n",
    " \n",
    "    def remove(self, node):\n",
    "        prev_node = self.get_prev_node(node)\n",
    "        if prev_node is None:\n",
    "            self.head = self.head.next\n",
    "        else:\n",
    "            prev_node.next = node.next\n",
    " \n",
    "    def display(self):\n",
    "        current = self.head\n",
    "        while current:\n",
    "            print(current.data, end = ' ')\n",
    "            current = current.next\n",
    " \n",
    " \n",
    "def remove_duplicates(data_list):\n",
    "    current1 = data_list.head\n",
    "    while current1:\n",
    "        data = current1.data\n",
    "        current2 = current1.next\n",
    "        while current2:\n",
    "            if current2.data == data:\n",
    "                data_list.remove(current2)\n",
    "            current2 = current2.next\n",
    "        current1 = current1.next\n",
    " \n",
    " \n",
    "data_list = LinkedList()\n",
    " \n",
    "data_input = input('Please enter the elements: ').split()\n",
    "for data in data_input:\n",
    "    data_list.append(int(data))\n",
    " \n",
    "remove_duplicates(data_list)\n",
    " \n",
    "print('The list with duplicates removed: ')\n",
    "data_list.display()"
   ]
  },
  {
   "cell_type": "code",
   "execution_count": null,
   "metadata": {},
   "outputs": [],
   "source": []
  }
 ],
 "metadata": {
  "kernelspec": {
   "display_name": "Python 3",
   "language": "python",
   "name": "python3"
  },
  "language_info": {
   "codemirror_mode": {
    "name": "ipython",
    "version": 3
   },
   "file_extension": ".py",
   "mimetype": "text/x-python",
   "name": "python",
   "nbconvert_exporter": "python",
   "pygments_lexer": "ipython3",
   "version": "3.5.3"
  }
 },
 "nbformat": 4,
 "nbformat_minor": 4
}
