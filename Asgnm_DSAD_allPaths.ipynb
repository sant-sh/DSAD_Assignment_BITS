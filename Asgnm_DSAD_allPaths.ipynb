{
 "cells": [
  {
   "cell_type": "code",
   "execution_count": 13,
   "metadata": {},
   "outputs": [
    {
     "name": "stdin",
     "output_type": "stream",
     "text": [
      "Enter the total number of vertices:  6\n"
     ]
    },
    {
     "name": "stdout",
     "output_type": "stream",
     "text": [
      "All the possible paths between 0 to 5 are: \n",
      "\n",
      "[0, 1, 2, 3, 4, 5]\n",
      "[0, 1, 3, 4, 5]\n",
      "[0, 2, 3, 4, 5]\n"
     ]
    }
   ],
   "source": [
    "# Print all paths from a source to destination. \n",
    "   \n",
    "from collections import defaultdict \n",
    "   \n",
    "class Graph: \n",
    "    def __init__(self,vertices): \n",
    "        self.V= vertices  \n",
    "        self.graph = defaultdict(list)  \n",
    "   \n",
    "    def addEdge(self,u,v): \n",
    "        self.graph[u].append(v) \n",
    "   \n",
    "    def printAllPathsUtil(self, u, d, visited, path): \n",
    "        visited[u]= True\n",
    "        path.append(u) \n",
    "\n",
    "        if u ==d: \n",
    "            print(path)\n",
    "        else: \n",
    "            for i in self.graph[u]: \n",
    "                if visited[i]==False: \n",
    "                    self.printAllPathsUtil(i, d, visited, path) \n",
    "        path.pop() \n",
    "        visited[u]= False\n",
    "   \n",
    "    def printAllPaths(self,s, d): \n",
    "        visited =[False]*(self.V) \n",
    "        path = [] \n",
    "        self.printAllPathsUtil(s, d,visited, path) \n",
    "   \n",
    "# Create a graph given in the above diagram \n",
    "vertices = int(input(\"Enter the total number of vertices: \"))\n",
    "g = Graph(vertices) \n",
    "\n",
    "g.addEdge(0, 1) \n",
    "g.addEdge(0, 2)\n",
    "g.addEdge(1, 2) \n",
    "g.addEdge(1, 3) \n",
    "g.addEdge(3, 4) \n",
    "g.addEdge(2, 3) \n",
    "g.addEdge(4, 0) \n",
    "g.addEdge(4, 1) \n",
    "g.addEdge(4, 5)\n",
    "\n",
    "s = 0 ; d = 5\n",
    "print (\"All the possible paths between %d to %d are: \\n\" %(s, d)) \n",
    "g.printAllPaths(s, d) "
   ]
  },
  {
   "cell_type": "code",
   "execution_count": null,
   "metadata": {},
   "outputs": [],
   "source": []
  }
 ],
 "metadata": {
  "kernelspec": {
   "display_name": "Python 3",
   "language": "python",
   "name": "python3"
  },
  "language_info": {
   "codemirror_mode": {
    "name": "ipython",
    "version": 3
   },
   "file_extension": ".py",
   "mimetype": "text/x-python",
   "name": "python",
   "nbconvert_exporter": "python",
   "pygments_lexer": "ipython3",
   "version": "3.5.3"
  }
 },
 "nbformat": 4,
 "nbformat_minor": 4
}
